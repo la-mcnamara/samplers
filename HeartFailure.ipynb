{
 "metadata": {
  "language_info": {
   "codemirror_mode": {
    "name": "ipython",
    "version": 3
   },
   "file_extension": ".py",
   "mimetype": "text/x-python",
   "name": "python",
   "nbconvert_exporter": "python",
   "pygments_lexer": "ipython3",
   "version": "3.8.3-final"
  },
  "orig_nbformat": 2,
  "kernelspec": {
   "name": "python383jvsc74a57bd0344443636c3027c5042750c9c609acdda283a9c43681b128a8c1053e7ad2aa7d",
   "display_name": "Python 3.8.3 64-bit ('base': conda)"
  }
 },
 "nbformat": 4,
 "nbformat_minor": 2,
 "cells": [
  {
   "source": [
    "# Heart Failure Prediction"
   ],
   "cell_type": "markdown",
   "metadata": {}
  },
  {
   "source": [
    "## Set up environment"
   ],
   "cell_type": "markdown",
   "metadata": {}
  },
  {
   "cell_type": "code",
   "execution_count": 14,
   "metadata": {},
   "outputs": [],
   "source": [
    "#########################################################\n",
    "#    Title: Heart Failure Prediction                    #\n",
    "#   Author: Lauren McNamara                             #\n",
    "#  Created: 4/24/2021                                   #                       \n",
    "# Modified: 4/24/2021                                   #\n",
    "#  Purpose: Quick reference for some ML and plotting    #\n",
    "#           techniques                                  #\n",
    "#########################################################\n",
    "\n",
    "\n",
    "##############  Setup  ##############\n",
    "# import packages\n",
    "import os\n",
    "import numpy as np \n",
    "import pandas as pd\n",
    "import matplotlib.pyplot as plt\n",
    "import seaborn as sns\n",
    "from pandas_profiling import ProfileReport\n",
    "from sklearn import linear_model\n",
    "import statsmodels.api as sm\n",
    "from sklearn import preprocessing\n",
    "from sklearn.pipeline import Pipeline\n",
    "from sklearn.compose import ColumnTransformer\n",
    "from sklearn.feature_selection import RFE\n",
    "from sklearn.linear_model import LogisticRegression\n",
    "from sklearn.ensemble import RandomForestClassifier\n",
    "from sklearn.metrics import mean_squared_error, r2_score\n",
    "from sklearn.model_selection import train_test_split, KFold, cross_val_score, cross_val_predict, cross_validate\n",
    "\n",
    "# set working directory\n",
    "os.chdir(\"/Users/Lauren/Documents/Python/Practice\")\n",
    "# print(os.getcwd())\n",
    "# print(os.listdir('.'))\n",
    "\n",
    "# color palette\n",
    "# source: https://learnui.design/tools/data-color-picker.html#palette\n",
    "pdblue = '#003f5c'\n",
    "plblue = '#444e86'\n",
    "ppurple = '#955196'\n",
    "ppink = '#dd5182'\n",
    "porange = '#ff6e54'\n",
    "pyellow = '#ffa600'\n",
    "pgray = '#64666B'"
   ]
  },
  {
   "source": [
    "## Get Data"
   ],
   "cell_type": "markdown",
   "metadata": {}
  },
  {
   "cell_type": "code",
   "execution_count": 6,
   "metadata": {},
   "outputs": [
    {
     "output_type": "execute_result",
     "data": {
      "text/plain": [
       "    age  anaemia  creatinine_phosphokinase  diabetes  ejection_fraction  \\\n",
       "0  75.0        0                       582         0                 20   \n",
       "1  55.0        0                      7861         0                 38   \n",
       "2  65.0        0                       146         0                 20   \n",
       "3  50.0        1                       111         0                 20   \n",
       "4  65.0        1                       160         1                 20   \n",
       "\n",
       "   high_blood_pressure  platelets  serum_creatinine  serum_sodium  sex  \\\n",
       "0                    1  265000.00               1.9           130    1   \n",
       "1                    0  263358.03               1.1           136    1   \n",
       "2                    0  162000.00               1.3           129    1   \n",
       "3                    0  210000.00               1.9           137    1   \n",
       "4                    0  327000.00               2.7           116    0   \n",
       "\n",
       "   smoking  time  DEATH_EVENT  \n",
       "0        0     4            1  \n",
       "1        0     6            1  \n",
       "2        1     7            1  \n",
       "3        0     7            1  \n",
       "4        0     8            1  "
      ],
      "text/html": "<div>\n<style scoped>\n    .dataframe tbody tr th:only-of-type {\n        vertical-align: middle;\n    }\n\n    .dataframe tbody tr th {\n        vertical-align: top;\n    }\n\n    .dataframe thead th {\n        text-align: right;\n    }\n</style>\n<table border=\"1\" class=\"dataframe\">\n  <thead>\n    <tr style=\"text-align: right;\">\n      <th></th>\n      <th>age</th>\n      <th>anaemia</th>\n      <th>creatinine_phosphokinase</th>\n      <th>diabetes</th>\n      <th>ejection_fraction</th>\n      <th>high_blood_pressure</th>\n      <th>platelets</th>\n      <th>serum_creatinine</th>\n      <th>serum_sodium</th>\n      <th>sex</th>\n      <th>smoking</th>\n      <th>time</th>\n      <th>DEATH_EVENT</th>\n    </tr>\n  </thead>\n  <tbody>\n    <tr>\n      <th>0</th>\n      <td>75.0</td>\n      <td>0</td>\n      <td>582</td>\n      <td>0</td>\n      <td>20</td>\n      <td>1</td>\n      <td>265000.00</td>\n      <td>1.9</td>\n      <td>130</td>\n      <td>1</td>\n      <td>0</td>\n      <td>4</td>\n      <td>1</td>\n    </tr>\n    <tr>\n      <th>1</th>\n      <td>55.0</td>\n      <td>0</td>\n      <td>7861</td>\n      <td>0</td>\n      <td>38</td>\n      <td>0</td>\n      <td>263358.03</td>\n      <td>1.1</td>\n      <td>136</td>\n      <td>1</td>\n      <td>0</td>\n      <td>6</td>\n      <td>1</td>\n    </tr>\n    <tr>\n      <th>2</th>\n      <td>65.0</td>\n      <td>0</td>\n      <td>146</td>\n      <td>0</td>\n      <td>20</td>\n      <td>0</td>\n      <td>162000.00</td>\n      <td>1.3</td>\n      <td>129</td>\n      <td>1</td>\n      <td>1</td>\n      <td>7</td>\n      <td>1</td>\n    </tr>\n    <tr>\n      <th>3</th>\n      <td>50.0</td>\n      <td>1</td>\n      <td>111</td>\n      <td>0</td>\n      <td>20</td>\n      <td>0</td>\n      <td>210000.00</td>\n      <td>1.9</td>\n      <td>137</td>\n      <td>1</td>\n      <td>0</td>\n      <td>7</td>\n      <td>1</td>\n    </tr>\n    <tr>\n      <th>4</th>\n      <td>65.0</td>\n      <td>1</td>\n      <td>160</td>\n      <td>1</td>\n      <td>20</td>\n      <td>0</td>\n      <td>327000.00</td>\n      <td>2.7</td>\n      <td>116</td>\n      <td>0</td>\n      <td>0</td>\n      <td>8</td>\n      <td>1</td>\n    </tr>\n  </tbody>\n</table>\n</div>"
     },
     "metadata": {},
     "execution_count": 6
    }
   ],
   "source": [
    "hfdf = pd.read_csv('/Users/Lauren/Documents/Python/data/heart_failure_clinical_records_dataset.csv')\n",
    "hfdf.head()"
   ]
  },
  {
   "source": [
    "## Exploratory Data Analysis"
   ],
   "cell_type": "markdown",
   "metadata": {}
  },
  {
   "cell_type": "code",
   "execution_count": 9,
   "metadata": {},
   "outputs": [
    {
     "output_type": "stream",
     "name": "stderr",
     "text": [
      "Summarize dataset: 100%|██████████| 26/26 [00:16<00:00,  1.59it/s, Completed]\n",
      "Generate report structure: 100%|██████████| 1/1 [00:08<00:00,  8.20s/it]\n"
     ]
    },
    {
     "output_type": "display_data",
     "data": {
      "text/plain": "VBox(children=(Tab(children=(Tab(children=(GridBox(children=(VBox(children=(GridspecLayout(children=(HTML(valu…",
      "application/vnd.jupyter.widget-view+json": {
       "version_major": 2,
       "version_minor": 0,
       "model_id": "631add73eb244a2ea1442a58974dacaf"
      }
     },
     "metadata": {}
    }
   ],
   "source": [
    "# first look using pandas-profiling\n",
    "profile = ProfileReport(hfdf, title=\"Pandas Profiling Report\")\n",
    "profile.to_widgets()"
   ]
  },
  {
   "source": [
    "Outcome of interest: DEATH_EVENT. 32% (n=96) of encounters had a death. Balancing the classes could be explored.\n",
    "\n",
    "Continuous variables with a long tail:\n",
    "<li>creatinine_phosphokinase\n",
    "<li>platelets\n",
    "<li>serum_creatinine\n",
    "<li>serum sodium (left tail)\n",
    "\n",
    "No missing data.\n",
    "\n",
    "It is unclear what variable time represents. The description is \"Follow-up period (days)\". I think this is the length of time an individual was in the study before either a death occurred or the study ended. Individuals with a shorter time are probably more likely to be deceased, but I don't know that this would tell us anything for making future predictions. I'm going to drop the time variable from consideration."
   ],
   "cell_type": "markdown",
   "metadata": {}
  },
  {
   "cell_type": "code",
   "execution_count": 13,
   "metadata": {},
   "outputs": [],
   "source": [
    "# variable labels\n",
    "varlabel = {'age':'Age'\n",
    "        ,'anaemia':'Decrease of red blood cells or hemoglobin (boolean)'\n",
    "        ,'creatinine_phosphokinase':'Level of the CPK enzyme in the blood (mcg/L)'\n",
    "        ,'diabetes':'If the patient has diabetes (boolean)'\n",
    "       ,'ejection_fraction':'Percentage of blood leaving the heart at each contraction (percentage)'\n",
    "       ,'high_blood_pressure':'If the patient has hypertension (boolean)'\n",
    "       ,'platelets':'Platelets in the blood (kiloplatelets/mL)'\n",
    "       ,'serum_creatinine':'Level of serum creatinine in the blood (mg/dL)'\n",
    "       ,'serum_sodium':'Level of serum sodium in the blood (mEq/L)'\n",
    "       ,'sex':'Woman or man (binary)'\n",
    "       ,'smoking':'If the patient smokes or not (boolean)'\n",
    "       ,'time':'Follow-up period (days)'\n",
    "       ,'DEATH_EVENT':'If the patient deceased during the follow-up period (boolean)'\n",
    "        }"
   ]
  },
  {
   "cell_type": "code",
   "execution_count": 28,
   "metadata": {},
   "outputs": [],
   "source": [
    "# identify boolean and continuous columns\n",
    "cols_bool = ['anaemia','diabetes','high_blood_pressure','sex','smoking','DEATH_EVENT']\n",
    "cols_cont = ['age','creatinine_phosphokinase','ejection_fraction','platelets','serum_creatinine','serum_sodium']\n",
    "\n",
    "# identify features and outcome\n",
    "features = ['anaemia','diabetes','high_blood_pressure','sex','smoking','age','creatinine_phosphokinase','ejection_fraction','platelets','serum_creatinine','serum_sodium']\n",
    "outcome = ['DEATH_EVENT']\n",
    "\n",
    "hfdf2 = hfdf.loc[:, outcome+features]"
   ]
  },
  {
   "cell_type": "code",
   "execution_count": 29,
   "metadata": {},
   "outputs": [
    {
     "output_type": "stream",
     "name": "stdout",
     "text": [
      "<class 'pandas.core.frame.DataFrame'>\nRangeIndex: 299 entries, 0 to 298\nData columns (total 6 columns):\n #   Column               Non-Null Count  Dtype\n---  ------               --------------  -----\n 0   anaemia              299 non-null    int64\n 1   diabetes             299 non-null    int64\n 2   high_blood_pressure  299 non-null    int64\n 3   sex                  299 non-null    int64\n 4   smoking              299 non-null    int64\n 5   DEATH_EVENT          299 non-null    int64\ndtypes: int64(6)\nmemory usage: 14.1 KB\n"
     ]
    }
   ],
   "source": [
    "hfdf2[cols_bool].info()"
   ]
  },
  {
   "cell_type": "code",
   "execution_count": 30,
   "metadata": {},
   "outputs": [
    {
     "output_type": "stream",
     "name": "stdout",
     "text": [
      "<class 'pandas.core.frame.DataFrame'>\nRangeIndex: 299 entries, 0 to 298\nData columns (total 6 columns):\n #   Column                    Non-Null Count  Dtype  \n---  ------                    --------------  -----  \n 0   age                       299 non-null    float64\n 1   creatinine_phosphokinase  299 non-null    int64  \n 2   ejection_fraction         299 non-null    int64  \n 3   platelets                 299 non-null    float64\n 4   serum_creatinine          299 non-null    float64\n 5   serum_sodium              299 non-null    int64  \ndtypes: float64(3), int64(3)\nmemory usage: 14.1 KB\n"
     ]
    }
   ],
   "source": [
    "hfdf2[cols_cont].info()"
   ]
  },
  {
   "source": [
    "## Data Cleaning\n",
    "Build a pipeline to clean and standardize data.\n",
    "\n",
    "Algorithms that are based on distances between the data points benefit from normalizing continuous features into the (0,1) range. If features have different scales, higher weight may be given to features with larger magnitudes. \n",
    "\n",
    "Tree-based algorithms that consider one variable at a time are not sensitive to differences in scales, but normalizing won't hurt.\n",
    "\n",
    "\n",
    "(Source: https://www.analyticsvidhya.com/blog/2020/04/feature-scaling-machine-learning-normalization-standardization/#:~:text=Normalization%20is%20good%20to%20use,Nearest%20Neighbors%20and%20Neural%20Networks.)"
   ],
   "cell_type": "markdown",
   "metadata": {}
  },
  {
   "cell_type": "code",
   "execution_count": 38,
   "metadata": {},
   "outputs": [
    {
     "output_type": "stream",
     "name": "stdout",
     "text": [
      "X shape (299, 11)\ny shape (299,)\n"
     ]
    }
   ],
   "source": [
    "# randomly sort dataset to prevent any data leakage/bias in CV based on ordering of data points\n",
    "hfdf2 = hfdf.sample(frac=1, random_state=424)\n",
    "\n",
    "X = hfdf2[features]\n",
    "y = hfdf2[outcome].values.ravel()\n",
    "\n",
    "print('X shape', X.shape)\n",
    "print('y shape',y.shape)"
   ]
  },
  {
   "cell_type": "code",
   "execution_count": 39,
   "metadata": {},
   "outputs": [],
   "source": [
    "# build a pipeline to normalize the continuous data and apply model\n",
    "preprocessor = ColumnTransformer(\n",
    "                    transformers=[\n",
    "                            ('normalizer', preprocessing.MinMaxScaler(), cols_cont)\n",
    "                    ]\n",
    "                    ,remainder='passthrough'\n",
    "    )\n",
    "# access normalizer data: \n",
    "#   preprocessor.fit(hfdf2)\n",
    "#   preprocessor.transformers_[0][1].data_range_\n",
    "\n",
    "pipe = Pipeline(steps=[\n",
    "                ('col_tx', preprocessor)\n",
    "                ,('model', LogisticRegression())\n",
    "])\n",
    "# access pipeline data: \n",
    "#   pipe.fit(X, y)\n",
    "#   pipe.score(X, y)                            -- mean accuracy\n",
    "#   pipe[0].transformers_[0][1].data_range_     -- data ranges for normalization\n"
   ]
  },
  {
   "cell_type": "code",
   "execution_count": 51,
   "metadata": {},
   "outputs": [],
   "source": [
    "# cross validation\n",
    "scoring=['accuracy','roc_auc','f1','precision','recall','balanced_accuracy']\n",
    "nfold = 5\n",
    "\n",
    "scores = cross_validate(pipe, X, y, cv=nfold, scoring=scoring\n",
    "                            ,return_train_score=True, return_estimator=True)"
   ]
  },
  {
   "cell_type": "code",
   "execution_count": 52,
   "metadata": {},
   "outputs": [
    {
     "output_type": "execute_result",
     "data": {
      "text/plain": [
       "dict_keys(['fit_time', 'score_time', 'estimator', 'test_accuracy', 'train_accuracy', 'test_roc_auc', 'train_roc_auc', 'test_f1', 'train_f1', 'test_precision', 'train_precision', 'test_recall', 'train_recall', 'test_balanced_accuracy', 'train_balanced_accuracy'])"
      ]
     },
     "metadata": {},
     "execution_count": 52
    }
   ],
   "source": [
    "scores.keys()"
   ]
  },
  {
   "cell_type": "code",
   "execution_count": 58,
   "metadata": {},
   "outputs": [
    {
     "output_type": "stream",
     "name": "stdout",
     "text": [
      "score: accuracy\ntest: [0.71666667 0.78333333 0.78333333 0.7        0.6440678 ] mean 0.7254802259887005\ntrain: [0.74058577 0.71966527 0.74476987 0.75732218 0.75833333] mean 0.7441352859135286\n--------\n\nscore: roc_auc\ntest: [0.76636714 0.84595635 0.85109114 0.7575     0.63421053] mean 0.7710250320924261\ntrain: [0.79886163 0.78354978 0.78483245 0.80424604 0.82344036] mean 0.7989860550241564\n--------\n\nscore: f1\ntest: [0.37037037 0.48       0.48       0.30769231 0.27586207] mean 0.382784949405639\ntrain: [0.42592593 0.33663366 0.44036697 0.43137255 0.45283019] mean 0.417425859893636\n--------\n\nscore: precision\ntest: [0.625      1.         1.         0.66666667 0.4       ] mean 0.7383333333333333\ntrain: [0.74193548 0.70833333 0.75       0.84615385 0.82758621] mean 0.7748017740509398\n--------\n\nscore: recall\ntest: [0.26315789 0.31578947 0.31578947 0.2        0.21052632] mean 0.26105263157894737\ntrain: [0.2987013  0.22077922 0.31168831 0.28947368 0.31168831] mean 0.28646616541353387\n--------\n\nscore: balanced_accuracy\ntest: [0.59499358 0.65789474 0.65789474 0.575      0.53026316] mean 0.603209242618742\ntrain: [0.62465929 0.58878467 0.6311528  0.6324669  0.64050673] mean 0.6235140794499314\n--------\n\n"
     ]
    }
   ],
   "source": [
    "for s in scoring:\n",
    "    cv_test_detail = {}\n",
    "    cv_train_detail = {}\n",
    "    cv_test_mean = {}\n",
    "    cv_train_mean = {}    \n",
    "    \n",
    "    cv_test_detail[s] = scores['test_'+s]\n",
    "    cv_test_mean[s] = scores['test_'+s].mean()\n",
    "    cv_train_detail[s] = scores['train_'+s]\n",
    "    cv_train_mean[s] = scores['train_'+s].mean()\n",
    "\n",
    "    print('score:',s)\n",
    "    print('test:', cv_test_detail[s], 'mean', cv_test_mean[s])\n",
    "    print('train:', cv_train_detail[s], 'mean', cv_train_mean[s])\n",
    "\n",
    "    print('--------')\n",
    "    print('')"
   ]
  },
  {
   "cell_type": "code",
   "execution_count": null,
   "metadata": {},
   "outputs": [],
   "source": []
  }
 ]
}